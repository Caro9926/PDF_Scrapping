{
 "cells": [
  {
   "cell_type": "markdown",
   "metadata": {},
   "source": [
    "#### 0. Author\n",
    "<br>\n",
    "Carolina Saavedra - carolinasaavedra01@gmail.com\n",
    "<br>\n",
    "\n",
    "#### 1. Title \n",
    "<br>\n",
    "01_PDF_Scrapping with an example \n",
    "<br>\n",
    "\n",
    "#### 2. Purpose\n",
    "<br>\n",
    "The following code converts encrypted PDF files into text files, allowing them to be subsequently organized and exported into classified Excel files. The following code consists of two parts. The first part converts the first page of a tax folder into information for a text file. The second part organizes the information from the text file into tables for separate exportation.\n",
    "\n",
    "Below is an image showing how this tax folder is presented:\n",
    "\n",
    "![PDF Example](Pdf_example.jpg)\n",
    "\n",
    "The text file would look like this:\n",
    "\n",
    "![text_file_example](text_example.jpg)\n",
    "\n",
    "Four different types of excel files will be exported. A table with main data, another with legal representatives, another with the formation of the company and a last one with participation data of current companies. The names below are fake. This document does not contain PII information.\n",
    "\n",
    "<br>\n",
    "\n",
    "#### 2.1. Table with main information\n",
    "\n",
    "| ID  | nombre_emisor | rut_emisor | fecha_inicio_emisor |  actividades_economicas|                                             \n",
    "|:-------|:-----------|:------------|:--------------------:|-----------------------------|\n",
    "| 1 | Carlos Pérez | 1237467-A | 17/08/2027 | SPA                              | |\n",
    "\n",
    "<br>\n",
    "\n",
    "\n",
    "This code was developed as part of a consultancy for the Inter-American Development Bank. If you wish to apply it to other types of documents with a PDF extension, the second part must be adjusted accordingly.\n",
    "<br>\n",
    "\n",
    "#### 3. Packages to install\n",
    "<br>\n",
    "Before to run the code you must need install 'pip install pdfplumber'; 'pip install pdfquery'; 'pip install fitz'.\n",
    "\n",
    "#### 4. Code Utility\n",
    "\n",
    "\n",
    "1. **Data Collection Efficiency:** Automated extraction of information from PDFs saves significant time and effort compared to manual data entry or extraction. This efficiency allows researchers to focus more on analysis and interpretation rather than spending resources on tedious data collection tasks.\n",
    "\n",
    "\n",
    "2. **Data Standardization:** Extracting information from PDFs using code ensures consistency and standardization in data collection. This helps to minimize errors and discrepancies that may arise from manual data entry, ensuring the accuracy and reliability of the data used for impact evaluation or RCTs.\n",
    "\n",
    "\n",
    "3. **Scalability:** With a code in place for PDF data extraction, the process can be easily scaled up to handle large volumes of documents efficiently. This scalability is particularly valuable in projects with extensive data requirements or when dealing with a large number of documents.\n",
    "\n",
    "\n",
    "4. **Versatility:** The ability to extract information from PDFs allows researchers to incorporate a diverse range of data sources into their impact evaluation projects or RCTs. This versatility enables researchers to access valuable data from various sources, including reports, surveys, and academic papers, enhancing the comprehensiveness and robustness of the analysis.\n",
    "\n",
    "\n",
    "5. **Automation of Data Preprocessing:** Extracting information from PDFs through code facilitates automated preprocessing of data, including cleaning, formatting, and structuring. This automation streamlines the data preparation process, making it easier to perform subsequent analysis tasks such as data merging, transformation, and analysis, thereby accelerating the overall research workflow.\n",
    "\n",
    "\n",
    "In summary, having a code for extracting information from PDFs provides several advantages for impact evaluation projects or RCTs, including efficiency, standardization, scalability, versatility, and automation of data preprocessing. These benefits contribute to improved data quality, streamlined research processes, and enhanced analytical capabilities, ultimately facilitating more robust and insightful evaluations of social programs or interventions."
   ]
  },
  {
   "cell_type": "markdown",
   "metadata": {},
   "source": [
    "#### 5. Code"
   ]
  },
  {
   "cell_type": "markdown",
   "metadata": {},
   "source": [
    "#### 5.1. Import libraries"
   ]
  },
  {
   "cell_type": "code",
   "execution_count": 1,
   "metadata": {},
   "outputs": [],
   "source": [
    "import os \n",
    "import pdfplumber\n",
    "import PyPDF2\n",
    "import re\n",
    "import pdfquery\n",
    "import pandas as pd"
   ]
  },
  {
   "cell_type": "markdown",
   "metadata": {},
   "source": [
    "#### 5.2. Directory where the tax folders are stored"
   ]
  },
  {
   "cell_type": "code",
   "execution_count": 2,
   "metadata": {},
   "outputs": [],
   "source": [
    "pdf_folder_path = 'C:\\\\Users\\\\CAROLINA\\\\Dropbox\\\\Project_Name\\\\01_PDFs_Analysis\\\\01_PDFs\\\\tax_folders' "
   ]
  },
  {
   "cell_type": "markdown",
   "metadata": {},
   "source": [
    "#### 5.3. Function to find the files"
   ]
  },
  {
   "cell_type": "code",
   "execution_count": 3,
   "metadata": {},
   "outputs": [],
   "source": [
    "# All files must have the extension \".pdf\"\n",
    "pdf_files = [file for file in os.listdir(pdf_folder_path) if file.endswith(\".pdf\")]"
   ]
  },
  {
   "cell_type": "markdown",
   "metadata": {},
   "source": [
    "#### 5.4. Loop for convert pfds to text files"
   ]
  },
  {
   "cell_type": "code",
   "execution_count": 4,
   "metadata": {},
   "outputs": [
    {
     "name": "stdout",
     "output_type": "stream",
     "text": [
      "Error processing file 314349.pdf: File has not been decrypted\n",
      "Error processing file 316237.pdf: EOF marker not found\n",
      "Error processing file 316771.pdf: EOF marker not found\n"
     ]
    },
    {
     "name": "stderr",
     "output_type": "stream",
     "text": [
      "incorrect startxref pointer(1)\n"
     ]
    },
    {
     "name": "stdout",
     "output_type": "stream",
     "text": [
      "Error processing file 342887.pdf: File has not been decrypted\n"
     ]
    }
   ],
   "source": [
    "# File where you store the block notes \n",
    "output_folder = \"C:\\\\Users\\\\CAROLINA\\\\Dropbox\\\\Project_Name\\\\6_PDFs_Analysis\\\\03_Outputs\\\\01_Block_Notes\"\n",
    "os.makedirs(output_folder, exist_ok=True)\n",
    "\n",
    "\n",
    "for pdf_file in pdf_files:\n",
    "    pdf_path = os.path.join(pdf_folder_path, pdf_file)\n",
    "\n",
    "    try:\n",
    "        \n",
    "        with open(pdf_path, 'rb') as pdfFileObj:\n",
    "            \n",
    "            pdfReader = PyPDF2.PdfReader(pdfFileObj)\n",
    "                       \n",
    "            if pdfReader.is_encrypted: # Verify if the PDF is encrypted\n",
    "                \n",
    "                pdfReader.decrypt(\"\")  # Try to decrypted the file\n",
    "                      \n",
    "            pageObj = pdfReader.pages[0] # Select the first page\n",
    "            extracted_text = pageObj.extract_text()\n",
    "\n",
    "            output_path = os.path.join(output_folder, f\"{os.path.splitext(pdf_file)[0]}_output.txt\")\n",
    "           \n",
    "            with open(output_path, 'w', encoding='utf-8') as output_file:\n",
    "                output_file.write(extracted_text)\n",
    "\n",
    "    except Exception as e:   \n",
    "        print(f\"Error processing file {pdf_file}: {str(e)}\")  # General exceptions\n",
    "        continue\n",
    "#Non-export folders are folders that are not electronic tax folders or contain other types of content."
   ]
  },
  {
   "cell_type": "markdown",
   "metadata": {},
   "source": [
    "#### 5.5. Directory where text files are stored"
   ]
  },
  {
   "cell_type": "code",
   "execution_count": null,
   "metadata": {},
   "outputs": [],
   "source": [
    "directorio_txt = 'C:\\\\Users\\\\CAROLINA\\\\Dropbox\\\\Project_Name\\\\6_PDFs_Analysis\\\\03_Outputs\\\\01_Block_Notes'"
   ]
  },
  {
   "cell_type": "markdown",
   "metadata": {},
   "source": [
    "#### 5.6. Logic for export tables with <span style=\"color:purple\">MAIN</span> information "
   ]
  },
  {
   "cell_type": "code",
   "execution_count": null,
   "metadata": {},
   "outputs": [],
   "source": [
    "def extraer_informacion_desde_txt(ruta_txt):\n",
    "    with open(ruta_txt, 'r', encoding='utf-8') as archivo:\n",
    "        contenido = archivo.read()\n",
    "\n",
    "    # Firts group of variables\n",
    "    nombre_emisor = \"NA\"\n",
    "    rut_emisor = \"NA\"\n",
    "    fecha_inicio_emisor = \"NA\"\n",
    "    actividades_economicas = \"NA\"\n",
    "\n",
    "    # Look for the information\n",
    "    for linea in contenido.split('\\n'):\n",
    "        if \"Nombre del emisor:\" in linea:\n",
    "            nombre_emisor = linea.split(':')[-1].strip()\n",
    "        elif \"RUT del emisor:\" in linea:\n",
    "            rut_emisor = linea.split(':')[-1].strip()\n",
    "        elif \"Fecha de Inicio de Actividades:\" in linea:\n",
    "            fecha_inicio_emisor = linea.split(':')[-1].strip()\n",
    "        elif \"Actividades Económicas:\" in linea:\n",
    "            actividades_economicas = linea.split(':')[-1].strip()\n",
    "\n",
    "    # Dataframe\n",
    "    df_resultante = pd.DataFrame({\n",
    "        'ID': [id_archivo],\n",
    "        'Nombre del Emisor': [nombre_emisor],\n",
    "        'RUT del Emisor': [rut_emisor],\n",
    "        'Fecha de Inicio de Actividades': [fecha_inicio_emisor],\n",
    "        'Actividades Económicas': [actividades_economicas]\n",
    "    })\n",
    "\n",
    "    return df_resultante\n",
    "\n",
    "dfs_resultantes = {}\n",
    "\n",
    "for nombre_archivo in os.listdir(directorio_txt):\n",
    "    if nombre_archivo.endswith('_output.txt'):  # You must verify that all the files has the extension .txt\n",
    "        ruta_completa = os.path.join(directorio_txt, nombre_archivo)\n",
    "        \n",
    "        id_archivo = nombre_archivo.split('_')[0]  # ID file\n",
    "        \n",
    "        df_resultante = extraer_informacion_desde_txt(ruta_completa)  # Apply function here\n",
    "        \n",
    "        dfs_resultantes[id_archivo] = df_resultante\n",
    "\n",
    "# Export the output \n",
    "directorio_exportacion_m = 'C:\\\\Users\\\\CAROLINA\\\\Dropbox\\\\Project_Name\\\\6_PDFs_Analysis\\\\03_Outputs\\\\02_Principal_Information'\n",
    "\n",
    "for id_archivo, df_resultante in dfs_resultantes.items():\n",
    "    nombre_excel = f'{id_archivo}_informacion_principal.xlsx'\n",
    "    ruta_excel = os.path.join(directorio_exportacion_m, nombre_excel)\n",
    "    df_resultante.to_excel(ruta_excel, index=False)\n",
    "\n",
    "    print(f\"The Excel file for the ID {id_archivo} has been exported to: {ruta_excel}\")"
   ]
  }
 ],
 "metadata": {
  "kernelspec": {
   "display_name": "Python 3",
   "language": "python",
   "name": "python3"
  },
  "language_info": {
   "codemirror_mode": {
    "name": "ipython",
    "version": 3
   },
   "file_extension": ".py",
   "mimetype": "text/x-python",
   "name": "python",
   "nbconvert_exporter": "python",
   "pygments_lexer": "ipython3",
   "version": "3.8.5"
  }
 },
 "nbformat": 4,
 "nbformat_minor": 4
}
